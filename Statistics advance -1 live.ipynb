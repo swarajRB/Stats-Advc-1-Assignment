{
 "cells": [
  {
   "cell_type": "markdown",
   "metadata": {},
   "source": [
    "# **Assignment Statistics Advance - 1**"
   ]
  },
  {
   "cell_type": "markdown",
   "metadata": {},
   "source": [
    "## Q 1 : Define the z-statistic and explain its relationship to the standard normal distribution. How is the z-statistic used in hypothesis testing?   "
   ]
  },
  {
   "cell_type": "markdown",
   "metadata": {},
   "source": [
    "The **z-statistic (or z-score)** is a measure that describes how many standard deviations an element is from the mean of a distribution. It is commonly used when dealing with data that follows a normal distribution, particularly in hypothesis testing and confidence intervals.\n",
    "\n",
    "\n",
    "Definition of Z-Statistic\n",
    "The z-statistic is calculated as :\n",
    "   - **z = (x−μ)/σ**\n",
    "\n",
    "The z-statistic transforms any normal distribution into the standard normal distribution (which has a mean of 0 and a standard deviation of 1). The value of the z-statistic tells you how far, in standard deviation units, a data point is from the mean.\n",
    "\n",
    "\n",
    "**Relationship :**\n",
    " The standard normal distribution, also called the Z-distribution, is a special case of the normal distribution with a mean of 0 and a standard deviation of 1. When you compute a z-score, you essentially convert your data point to this standard normal form, allowing you to use the properties of the standard normal distribution to interpret probabilities.\n",
    "   - A z-score of 0 means the data point is exactly at the mean.\n",
    "   - A z-score of 1 means the data point is 1 standard deviation above the mean.\n",
    "   - A z-score of -2 means the data point is 2 standard deviations below the mean.\n",
    "\n",
    "**Z-Statistic in Hypothesis Testing :**\n",
    "\n",
    "In hypothesis testing, the z-statistic is used to determine whether the observed data significantly differs from a null hypothesis. The process typically involves:\n",
    "\n",
    " 1. State the Null Hypothesis (H₀):  This is usually a statement that there is no effect or no difference (e.g., the mean of a population is equal to a specific value).\n",
    "\n",
    " 2. Compute the Z-Statistic:\n",
    "   Calculate the z-statistic to see how far your sample mean is from the population mean under the null hypothesis.\n",
    "\n",
    " 3. Compare the Z-Statistic to Critical Values:\n",
    "   The z-statistic is compared to critical values from the standard normal distribution. If the z-statistic falls in the critical region (which corresponds to a very low probability, typically less than 5% or 1%), the null hypothesis is rejected.\n",
    "\n",
    " 4. Determine p-Value:\n",
    "   The p-value is the probability of obtaining a z-statistic as extreme as, or more extreme than, the observed value. A small p-value (typically less than 0.05) indicates strong evidence against the null hypothesis."
   ]
  },
  {
   "cell_type": "markdown",
   "metadata": {},
   "source": [
    "## Q 2 : What is a p-value, and how is it used in hypothesis testing? What does it mean if the p-value is very small (e.g., 0.01)?"
   ]
  },
  {
   "cell_type": "markdown",
   "metadata": {},
   "source": [
    "A **p-value** is the probability of obtaining a test statistic (like a z-score) as extreme as, or more extreme than, the observed result, assuming the null hypothesis is true. It quantifies the strength of evidence against the null hypothesis.\n",
    "\n",
    "**How is it Used in Hypothesis Testing?**\n",
    "\n",
    "In hypothesis testing, the p-value helps determine whether to reject the null hypothesis:\n",
    "\n",
    " 1. State the Hypotheses: Set up the null hypothesis (H₀) and alternative hypothesis (H₁). \n",
    "\n",
    " 2. Calculate the Test Statistic: Compute a statistic (e.g., z-score or t-score) based on the sample data.\n",
    "\n",
    " 3. Find the P-Value: The p-value is derived from the test statistic by determining the probability of observing a value as extreme as the one obtained, under the assumption that the null hypothesis is true.\n",
    " \n",
    " 4. Decision Rule: Compare the p-value to a predetermined significance level (commonly 0.05).\n",
    "    - If p-value ≤ significance level (e.g., 0.05), reject the null hypothesis.\n",
    "    - If p-value > significance level, fail to reject the null hypothesis.\n",
    "\n",
    "\n",
    "**Interpretation of a Small P-Value (e.g., 0.01)**\n",
    "\n",
    "A very small p-value (e.g., 0.01) means that the probability of observing the sample result, or one more extreme, if the null hypothesis were true, is only 1%. This suggests strong evidence against the null hypothesis, leading to its rejection at typical significance levels (like 0.05 or 0.01).\n",
    "\n"
   ]
  },
  {
   "cell_type": "markdown",
   "metadata": {},
   "source": [
    "## Q 3 : Compare and contrast the binomial and Bernoulli distributions.    "
   ]
  },
  {
   "cell_type": "markdown",
   "metadata": {},
   "source": [
    "Both the binomial and Bernoulli distributions are used in probability theory to model the outcomes of discrete random experiments. However, they have distinct characteristics and applications.\n",
    "\n",
    "The Binomial and Bernoulli distributions are both related to binary outcomes (success/failure), but they differ in scope and application. Here’s a comparison of the two:\n",
    "\n",
    "**1. Definition:**\n",
    " Bernoulli Distribution: Describes the outcome of a single trial that can result in one of two outcomes: success (1) or failure (0). It is a special case of the binomial distribution with a single trial.\n",
    "\n",
    " Binomial Distribution: Describes the number of successes in a fixed number of independent trials (n), where each trial has only two possible outcomes (success or failure) and the probability of success remains constant for each trial.\n",
    "\n",
    "**2. Probability Mass Function (PMF):**\n",
    "\n",
    " - Bernoulli Distribution (for a single trial):\n",
    "  \n",
    "   pmf = P(X = x) = p^x * (1-p)^(1-x)\n",
    "   \n",
    "   Where x is either 0 or 1.\n",
    "  \n",
    " - Binomial Distribution (for n trials):\n",
    "\n",
    "   pmf = P(X = k) = C(n, k) * p^k * (1-p)^(n-k)\n",
    "   \n",
    "   where k is the number of successes (0 ≤ k ≤ n), and C(n, k) is the binomial coefficient.\n",
    "\n",
    "**3. Parameters:**\n",
    " - Bernoulli Distribution: Has one parameter, p, which is the probability of success.\n",
    "\n",
    " - Binomial Distribution: Has two parameters:\n",
    "   - n (number of trials),\n",
    "   - p (probability of success in each trial).\n",
    "\n",
    "\n",
    "**Key Differences:**\n",
    " - Number of Trials: Bernoulli distribution considers a single trial, while binomial distribution considers multiple trials.\n",
    " - Outcomes: Bernoulli distribution models the outcome of a single trial, while binomial distribution models the total number of successes in multiple trials.\n",
    " - Parameters: Bernoulli distribution has one parameter (p), while binomial distribution has two parameters (n and p)\n",
    "\n",
    "**Relationship :**\n",
    "The binomial distribution can be seen as the sum of n independent Bernoulli distributions. In other words, if you conduct n independent Bernoulli trials, the total number of successes follows a binomial distribution.\n",
    "\n",
    "A Binomial Distribution with n=1 is the same as a Bernoulli Distribution. In other words, a binomial distribution with one trial is simply a Bernoulli distribution.\n"
   ]
  },
  {
   "cell_type": "markdown",
   "metadata": {},
   "source": [
    "## Q 4: Under what conditions is the binomial distribution used, and how does it relate to the Bernoulli distribution?   "
   ]
  },
  {
   "cell_type": "markdown",
   "metadata": {},
   "source": [
    "Binomial Distribution and its Relationship to the Bernoulli Distribution\n",
    "\n",
    "Conditions for Using the Binomial Distribution:\n",
    "\n",
    "The **Binomial distribution** is used under the following conditions:\n",
    "\n",
    "1. Fixed Number of Trials: There are a set number of trials \\( n \\).\n",
    "\n",
    "2. Two Possible Outcomes: Each trial has exactly two outcomes, commonly referred to as \"success\" and \"failure.\"\n",
    "\n",
    "3. Independent Trials: The outcome of one trial does not affect the outcome of another (i.e., trials are independent).\n",
    "\n",
    "4. Constant Probability: The probability of success \\( p \\) remains the same for each trial.\n",
    "\n",
    "Relationship to the Bernoulli Distribution:\n",
    "\n",
    "- The Bernoulli distribution describes the outcome of a **single trial** with two outcomes (success or failure) and a probability \\( p \\) of success.\n",
    "\n",
    "- The Binomial distribution extends the Bernoulli distribution to describe the number of successes in **multiple independent Bernoulli trials**. If you perform \\( n \\) independent Bernoulli trials, the number of successes follows a Binomial distribution.\n",
    "\n",
    "Key Point:\n",
    "\n",
    "- A **Binomial distribution with \\( n = 1 \\)** is the same as a **Bernoulli distribution**.\n"
   ]
  },
  {
   "cell_type": "markdown",
   "metadata": {},
   "source": [
    "## Q 5: What are the key properties of the Poisson distribution, and when is it appropriate to use this distribution?   "
   ]
  },
  {
   "cell_type": "markdown",
   "metadata": {},
   "source": [
    "**Key Properties of the Poisson Distribution :**\n",
    "\n",
    "The Poisson distribution is a discrete probability distribution that expresses the probability of a given number of events occurring in a fixed interval of time or space. It is often used to model the number of occurrences of rare events.   \n",
    "\n",
    "Here are the key properties of the Poisson distribution:\n",
    "\n",
    "1. Single Parameter: The Poisson distribution is characterized by a single parameter, denoted by λ. This parameter represents the average rate of occurrences within the specified interval.\n",
    "\n",
    "2. Discrete Outcomes: The outcomes of a Poisson distribution are discrete, meaning they can take on only integer values (0, 1, 2, ...).\n",
    "\n",
    "3. Memorylessness: The Poisson distribution is memoryless. This means that the probability of an event occurring in a given interval is independent of the number of events that have already occurred.\n",
    "\n",
    "4. Mean and Variance: The mean and variance of a Poisson distribution are both equal to the parameter λ.\n",
    "\n",
    "5. Approximation to Binomial Distribution: For large values of n and small values of p in a binomial distribution, the Poisson distribution can be used as an approximation. The Poisson parameter λ is calculated as λ = np.\n",
    "\n",
    "\n",
    "**The Poisson distribution is appropriate when:**\n",
    "\n",
    " - Counting Events: The variable of interest is the number of events occurring in a fixed interval (e.g., number of emails received in an hour, number of cars passing through a toll booth in a minute).\n",
    "\n",
    " - Constant Average Rate: The average rate λ of events is constant over time or space.\n",
    "\n",
    " - Independence of Events: The events must occur independently of one another (e.g., if one car passes through a toll, it doesn't affect another car passing).\n",
    "\n",
    " - Rare Events in Small Intervals: The Poisson distribution is particularly useful when events are rare in small intervals but more common over larger intervals (e.g., number of earthquakes in a region over a year).\n",
    "\n",
    "Example Scenarios:\n",
    "* Modeling the number of customer arrivals at a store per hour.\n",
    "\n",
    "* Counting the number of emails you receive in a day.\n",
    "\n",
    "* Estimating the number of accidents at an intersection per month."
   ]
  },
  {
   "cell_type": "markdown",
   "metadata": {},
   "source": [
    "## Q 6: Define the terms \"probability distribution\" and \"probability density function\" (PDF). How does a PDF differ from a probability mass function (PMF)?  "
   ]
  },
  {
   "cell_type": "markdown",
   "metadata": {},
   "source": [
    "**1. Probability Distribution:**\n",
    "\n",
    "A probability distribution describes how the probabilities are distributed over the possible outcomes of a random variable. It provides a complete description of the likelihood of occurrence of different possible values that a random variable can take.\n",
    "\n",
    "  - For discrete random variables, the probability distribution is represented by a probability mass function (PMF).\n",
    "\n",
    "  - For continuous random variables, the probability distribution is represented by a probability density function (PDF).\n",
    "\n",
    "**2. Probability Density Function (PDF):**\n",
    "\n",
    "A probability density function (PDF) is used to specify the probability distribution for a continuous random variable. The PDF describes the relative likelihood of the random variable taking a particular value.\n",
    "\n",
    "Key properties:\n",
    "\n",
    "- The value of the PDF at any given point represents the density of the variable around that point, but not the actual probability.\n",
    "\n",
    "- The probability of the variable falling within a particular range is found by integrating the PDF over that range.\n",
    "\n",
    "- The total area under the PDF curve is 1, representing the total probability.\n",
    "\n",
    "**3. Difference Between PDF and PMF:**\n",
    "\n",
    "- PDF (Probability Density Function) is for continuous random variables.\n",
    "\n",
    "  - The value of the PDF at a specific point is not the probability itself but the density of the variable at that point.\n",
    "\n",
    "  - The probability for a continuous random variable to fall within a range is determined by the area under the curve of the PDF over that range.\n",
    "  \n",
    "- PMF (Probability Mass Function) is for discrete random variables.\n",
    "\n",
    "  - The PMF assigns a probability to each specific outcome, and the sum of these probabilities is 1.\n",
    "  \n",
    "  - The probability of each exact value is non-zero and directly given by the PMF.\n",
    "\n",
    "\n"
   ]
  },
  {
   "cell_type": "markdown",
   "metadata": {},
   "source": [
    "## Q 7: Explain the Central Limit Theorem (CLT) with example.   "
   ]
  },
  {
   "cell_type": "markdown",
   "metadata": {},
   "source": [
    "The central limit theorem states that the sample mean follows approximately the normal distribution with mean(μ) and standard deviation (σ/√n), where μ and σ are the mean and standard deviation of the population from where the sample was selected. The sample size n has to be large (usually n≥30) if the population from where the sample is taken is non normal.\n",
    "\n",
    "**Key points of the CLT:**\n",
    "\n",
    "- Sample Size: The theorem is most applicable when the sample size is sufficiently large (typically n≥30).\n",
    "- Independence: The variables must be independent, meaning the outcome of one variable does not affect the others.\n",
    "- Original Distribution: The original population distribution can be any shape (uniform, exponential, etc.), and the CLT will still apply.\n",
    "\n",
    "**Implications**\n",
    "1. The means of samples drawn from the same population will form a normal distribution as the sample size increases, even if the population distribution is not normal.\n",
    "2. The mean of the sampling distribution will equal the mean of the population distribution.\n",
    "3. The standard deviation of the sampling distribution (often called the standard error) will be the population standard deviation divided by the square root of the sample size \n",
    "- σ/√n.\n",
    "\n",
    "  - ‘σ’ is the population of std deviation\n",
    "  - n = the sample size\n",
    "\n",
    "Example::\n",
    "\n",
    "Let X be a random variable along with ‘µ’ = 10 and σ = 4 . A sample of size 100 is taken from the population. Find the probability that the sum of these 100 numbers of observations is less than 900.\n",
    "\n",
    "We are asked to find the probability that the sum of 100 observations is less than 900, given that the mean μ=10 and standard deviation σ=4.\n",
    "\n",
    "P(S<900) \n",
    "\n",
    "= P(Z<(900−1000​)/40) \n",
    "\n",
    "= P(Z<−2.5) = 0.0062 or 0.62%\n",
    "(from the  table of standard normal probabilities)"
   ]
  },
  {
   "cell_type": "markdown",
   "metadata": {},
   "source": [
    "## Q 8: Compare z-scores and t-scores. When should you use a z-score, and when should a t-score be applied instead ?  "
   ]
  },
  {
   "cell_type": "markdown",
   "metadata": {},
   "source": [
    "Both z-scores and t-scores are statistical measures used to standardize data and determine how far a particular data point is from the mean in terms of standard deviations. However, they are used in different scenarios based on the sample size and knowledge of the population standard deviation.\n",
    "\n",
    "**Comparison of Z-scores and T-scores:**\n",
    "\n",
    "**1. Z-score:**\n",
    "\n",
    " - A Z-score (or standard score) measures how many standard deviations a data point or sample mean is from the population mean, assuming you know the population standard deviation.\n",
    " \n",
    " - Formula\n",
    "\n",
    "    - Z= (X−μ)/σ\n",
    "    \n",
    "        - X is the sample mean or individual data point,\n",
    "        - μ is the population mean,\n",
    "        - σ is the population standard deviation\n",
    "\n",
    "- When to Use: Use the Z-score when:\n",
    "     - The sample size is large (typically n≥30).\n",
    "     - The population standard deviation (σ) is known.\n",
    "     - The data follows a normal distribution (or the Central Limit Theorem applies).\n",
    "\n",
    "**2. T-score:**\n",
    "\n",
    "- A T-score (or Student’s t-score) is used when the sample size is small, and the population standard deviation is unknown. It accounts for the additional uncertainty in the estimation of the population standard deviation by using the sample standard deviation.\n",
    "\n",
    "- Formula:\n",
    "\n",
    "    t = (x - μ) / (s / √n)\n",
    "    - Where:\n",
    "     - x = individual data point\n",
    "     - μ = sample mean\n",
    "     - s = sample standard deviation\n",
    "     - n = sample size\n",
    "\n",
    "\n",
    "- When to Use: Use the T-score when:\n",
    "    - The sample size is small (n<30).\n",
    "\n",
    "    - The population standard deviation (σ) is unknown, so the sample standard deviation (s) is used instead.\n",
    "    \n",
    "    - The data follows a normal or nearly normal distribution.\n",
    "\n",
    "\n",
    "**Key Differences:**\n",
    "\n",
    "- **Population vs. Sample Standard Deviation** : Z-scores use the population standard deviation, while t-scores use the sample standard deviation.\n",
    "\n",
    "- **Degrees of Freedom**: T-scores have degrees of freedom (n-1), which account for the uncertainty introduced by using a sample estimate instead of the population parameter.\n",
    "\n",
    "- **Distribution** : Z-scores follow a standard normal distribution, while t-scores follow a t-distribution. The t-distribution is wider and flatter than the normal distribution, especially for smaller sample sizes."
   ]
  },
  {
   "cell_type": "markdown",
   "metadata": {},
   "source": [
    "## Q 9: Given a sample mean of 105, a population mean of 100, a standard deviation of 15, and a sample size of 25, calculate the z-score and p-value. Based on a significance level of 0.05, do you reject or fail to reject the null hypothesis? \n",
    "- Task: Write Python code to calculate the z-score and p-value for the given data. \n",
    "- Objective: Apply the formula for the z-score and interpret the p-value for hypothesis testing.   \n"
   ]
  },
  {
   "cell_type": "code",
   "execution_count": 1,
   "metadata": {},
   "outputs": [
    {
     "name": "stdout",
     "output_type": "stream",
     "text": [
      "Z-score: 1.6666666666666667\n",
      "P-value: 0.09558070454562939\n",
      "Fail to reject the null hypothesis.\n"
     ]
    },
    {
     "data": {
      "text/plain": [
       "'\\nInterpretation:\\nZ-score tells you how many standard deviations the sample mean is from the population mean.\\nP-value helps to determine whether the observed sample mean is significantly different from the population mean.\\n'"
      ]
     },
     "execution_count": 1,
     "metadata": {},
     "output_type": "execute_result"
    }
   ],
   "source": [
    "import scipy.stats as stats\n",
    "\n",
    "# given data \n",
    "sample_mean = 105\n",
    "population_mean = 100\n",
    "std_dev = 15\n",
    "sample_size = 25\n",
    "alpha = 0.05 # significance level\n",
    "\n",
    "# Calculating Standard error\n",
    "std_error = std_dev / (sample_size ** 0.5)\n",
    "\n",
    "# calculating the z-score\n",
    "z_score = (sample_mean - population_mean)/std_error\n",
    "\n",
    "# calculating p_value (Two tailed test)\n",
    "p_value = (1 - stats.norm.cdf(abs(z_score))) * 2\n",
    "\n",
    "# Output results\n",
    "print(f\"Z-score: {z_score}\")\n",
    "print(f\"P-value: {p_value}\")\n",
    "\n",
    "# Determine whether to reject the null hypothesis\n",
    "\n",
    "if p_value < alpha:\n",
    "    print(\"Reject the null hypothesis.\")\n",
    "else:\n",
    "    print(\"Fail to reject the null hypothesis.\")\n",
    "\n",
    "\n",
    "'''\n",
    "Interpretation:\n",
    "Z-score tells you how many standard deviations the sample mean is from the population mean.\n",
    "P-value helps to determine whether the observed sample mean is significantly different from the population mean.\n",
    "'''"
   ]
  },
  {
   "cell_type": "markdown",
   "metadata": {},
   "source": [
    "## Q 10: Simulate a binomial distribution with 10 trials and a probability of success of 0.6 using Python. Generate 1,000 samples and plot the distribution. What is the expected mean and variance? \n",
    "- Task: Use Python to generate the data, plot the distribution, and calculate the mean and variance. \n",
    "- Objective: Understand the properties of a binomial distribution and verify them through simulation.  "
   ]
  },
  {
   "cell_type": "code",
   "execution_count": 2,
   "metadata": {},
   "outputs": [
    {
     "data": {
      "image/png": "[encoded data removed]",
      "text/plain": [
       "<Figure size 640x480 with 1 Axes>"
      ]
     },
     "metadata": {},
     "output_type": "display_data"
    }
   ],
   "source": [
    "import numpy as np\n",
    "import matplotlib.pyplot as plt\n",
    "\n",
    "# Given parameters\n",
    "n_trials = 10         \n",
    "p_success = 0.6       \n",
    "n_samples = 1000      \n",
    "\n",
    "# Simulate binomial distribution\n",
    "samples = np.random.binomial(n=n_trials, p=p_success, size=n_samples)\n",
    "\n",
    "# Plot the distribution\n",
    "plt.hist(samples, bins=range(n_trials + 2), edgecolor='black', density=True)\n",
    "plt.title(\"Binomial Distribution (n=10, p=0.6)\")\n",
    "plt.xlabel(\"Number of successes\")\n",
    "plt.ylabel(\"Probability\")\n",
    "plt.show()\n"
   ]
  },
  {
   "cell_type": "code",
   "execution_count": 3,
   "metadata": {},
   "outputs": [
    {
     "name": "stdout",
     "output_type": "stream",
     "text": [
      "Simulated Mean: 6.007\n",
      "Simulated Variance: 2.370951\n",
      "Expected Mean: 6.0\n",
      "Expected Variance: 2.4000000000000004\n"
     ]
    }
   ],
   "source": [
    "# Calculate the mean and variance\n",
    "mean = np.mean(samples)\n",
    "variance = np.var(samples)\n",
    "\n",
    "print(f\"Simulated Mean: {mean}\")\n",
    "print(f\"Simulated Variance: {variance}\")\n",
    "\n",
    "# Expected mean and variance for binomial distribution\n",
    "expected_mean = n_trials * p_success\n",
    "expected_variance = n_trials * p_success * (1 - p_success)\n",
    "\n",
    "print(f\"Expected Mean: {expected_mean}\")\n",
    "print(f\"Expected Variance: {expected_variance}\")"
   ]
  }
 ],
 "metadata": {
  "kernelspec": {
   "display_name": "Python 3",
   "language": "python",
   "name": "python3"
  },
  "language_info": {
   "codemirror_mode": {
    "name": "ipython",
    "version": 3
   },
   "file_extension": ".py",
   "mimetype": "text/x-python",
   "name": "python",
   "nbconvert_exporter": "python",
   "pygments_lexer": "ipython3",
   "version": "3.12.4"
  }
 },
 "nbformat": 4,
 "nbformat_minor": 2
}
